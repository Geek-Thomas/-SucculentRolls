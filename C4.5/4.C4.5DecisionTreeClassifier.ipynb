{
 "cells": [
  {
   "cell_type": "code",
   "execution_count": 2,
   "metadata": {
    "collapsed": true
   },
   "outputs": [],
   "source": [
    "import numpy as np\n",
    "import pandas as pd\n",
    "from collections import Counter"
   ]
  },
  {
   "cell_type": "code",
   "execution_count": 3,
   "outputs": [
    {
     "data": {
      "text/plain": "   humility   outlook  temp windy play\n0      high     sunny   hot    no   no\n1      high     sunny   hot   yes   no\n2      high  overcast   hot    no  yes\n3      high     rainy  mild    no  yes\n4    normal     rainy  cool    no  yes\n5    normal     rainy  cool   yes   no\n6    normal  overcast  cool   yes  yes\n7      high     sunny  mild    no   no\n8    normal     sunny  cool    no  yes\n9    normal     rainy  mild    no  yes\n10   normal     sunny  mild   yes  yes\n11     high  overcast  mild   yes  yes\n12   normal  overcast   hot    no  yes\n13     high     rainy  mild   yes   no",
      "text/html": "<div>\n<style scoped>\n    .dataframe tbody tr th:only-of-type {\n        vertical-align: middle;\n    }\n\n    .dataframe tbody tr th {\n        vertical-align: top;\n    }\n\n    .dataframe thead th {\n        text-align: right;\n    }\n</style>\n<table border=\"1\" class=\"dataframe\">\n  <thead>\n    <tr style=\"text-align: right;\">\n      <th></th>\n      <th>humility</th>\n      <th>outlook</th>\n      <th>temp</th>\n      <th>windy</th>\n      <th>play</th>\n    </tr>\n  </thead>\n  <tbody>\n    <tr>\n      <th>0</th>\n      <td>high</td>\n      <td>sunny</td>\n      <td>hot</td>\n      <td>no</td>\n      <td>no</td>\n    </tr>\n    <tr>\n      <th>1</th>\n      <td>high</td>\n      <td>sunny</td>\n      <td>hot</td>\n      <td>yes</td>\n      <td>no</td>\n    </tr>\n    <tr>\n      <th>2</th>\n      <td>high</td>\n      <td>overcast</td>\n      <td>hot</td>\n      <td>no</td>\n      <td>yes</td>\n    </tr>\n    <tr>\n      <th>3</th>\n      <td>high</td>\n      <td>rainy</td>\n      <td>mild</td>\n      <td>no</td>\n      <td>yes</td>\n    </tr>\n    <tr>\n      <th>4</th>\n      <td>normal</td>\n      <td>rainy</td>\n      <td>cool</td>\n      <td>no</td>\n      <td>yes</td>\n    </tr>\n    <tr>\n      <th>5</th>\n      <td>normal</td>\n      <td>rainy</td>\n      <td>cool</td>\n      <td>yes</td>\n      <td>no</td>\n    </tr>\n    <tr>\n      <th>6</th>\n      <td>normal</td>\n      <td>overcast</td>\n      <td>cool</td>\n      <td>yes</td>\n      <td>yes</td>\n    </tr>\n    <tr>\n      <th>7</th>\n      <td>high</td>\n      <td>sunny</td>\n      <td>mild</td>\n      <td>no</td>\n      <td>no</td>\n    </tr>\n    <tr>\n      <th>8</th>\n      <td>normal</td>\n      <td>sunny</td>\n      <td>cool</td>\n      <td>no</td>\n      <td>yes</td>\n    </tr>\n    <tr>\n      <th>9</th>\n      <td>normal</td>\n      <td>rainy</td>\n      <td>mild</td>\n      <td>no</td>\n      <td>yes</td>\n    </tr>\n    <tr>\n      <th>10</th>\n      <td>normal</td>\n      <td>sunny</td>\n      <td>mild</td>\n      <td>yes</td>\n      <td>yes</td>\n    </tr>\n    <tr>\n      <th>11</th>\n      <td>high</td>\n      <td>overcast</td>\n      <td>mild</td>\n      <td>yes</td>\n      <td>yes</td>\n    </tr>\n    <tr>\n      <th>12</th>\n      <td>normal</td>\n      <td>overcast</td>\n      <td>hot</td>\n      <td>no</td>\n      <td>yes</td>\n    </tr>\n    <tr>\n      <th>13</th>\n      <td>high</td>\n      <td>rainy</td>\n      <td>mild</td>\n      <td>yes</td>\n      <td>no</td>\n    </tr>\n  </tbody>\n</table>\n</div>"
     },
     "execution_count": 3,
     "metadata": {},
     "output_type": "execute_result"
    }
   ],
   "source": [
    "data = pd.read_csv('example_data.csv')\n",
    "data"
   ],
   "metadata": {
    "collapsed": false,
    "pycharm": {
     "name": "#%%\n"
    }
   }
  },
  {
   "cell_type": "code",
   "execution_count": 4,
   "outputs": [],
   "source": [
    "def createDataset():\n",
    "    \"\"\"\n",
    "    :return: dataSet是二维列表，其中第三列为分类标签 features是特征列表\n",
    "    \"\"\"\n",
    "    df = pd.read_csv('example_data.csv')\n",
    "    dataSet = df.values.tolist()\n",
    "    features = df.columns.tolist()\n",
    "    return dataSet, features"
   ],
   "metadata": {
    "collapsed": false,
    "pycharm": {
     "name": "#%%\n"
    }
   }
  },
  {
   "cell_type": "code",
   "execution_count": 5,
   "outputs": [],
   "source": [
    "dataset, features = createDataset()"
   ],
   "metadata": {
    "collapsed": false,
    "pycharm": {
     "name": "#%%\n"
    }
   }
  },
  {
   "cell_type": "code",
   "execution_count": 48,
   "outputs": [
    {
     "data": {
      "text/plain": "[['high', 'sunny', 'hot', 'no', 'no'],\n ['high', 'sunny', 'hot', 'yes', 'no'],\n ['high', 'overcast', 'hot', 'no', 'yes'],\n ['high', 'rainy', 'mild', 'no', 'yes'],\n ['normal', 'rainy', 'cool', 'no', 'yes'],\n ['normal', 'rainy', 'cool', 'yes', 'no'],\n ['normal', 'overcast', 'cool', 'yes', 'yes'],\n ['high', 'sunny', 'mild', 'no', 'no'],\n ['normal', 'sunny', 'cool', 'no', 'yes'],\n ['normal', 'rainy', 'mild', 'no', 'yes'],\n ['normal', 'sunny', 'mild', 'yes', 'yes'],\n ['high', 'overcast', 'mild', 'yes', 'yes'],\n ['normal', 'overcast', 'hot', 'no', 'yes'],\n ['high', 'rainy', 'mild', 'yes', 'no']]"
     },
     "execution_count": 48,
     "metadata": {},
     "output_type": "execute_result"
    }
   ],
   "source": [
    "dataset"
   ],
   "metadata": {
    "collapsed": false,
    "pycharm": {
     "name": "#%%\n"
    }
   }
  },
  {
   "cell_type": "code",
   "execution_count": 49,
   "outputs": [
    {
     "data": {
      "text/plain": "['humility', 'outlook', 'temp', 'windy', 'play']"
     },
     "execution_count": 49,
     "metadata": {},
     "output_type": "execute_result"
    }
   ],
   "source": [
    "features"
   ],
   "metadata": {
    "collapsed": false,
    "pycharm": {
     "name": "#%%\n"
    }
   }
  },
  {
   "cell_type": "code",
   "execution_count": 50,
   "outputs": [
    {
     "data": {
      "text/plain": "array(['cool', 'high', 'hot', 'mild', 'no', 'normal', 'overcast', 'rainy',\n       'sunny', 'yes'], dtype='<U8')"
     },
     "execution_count": 50,
     "metadata": {},
     "output_type": "execute_result"
    }
   ],
   "source": [
    "np.unique(dataset)"
   ],
   "metadata": {
    "collapsed": false,
    "pycharm": {
     "name": "#%%\n"
    }
   }
  },
  {
   "cell_type": "code",
   "execution_count": 6,
   "outputs": [],
   "source": [
    "def calEntropy(dataset):\n",
    "    nums = len(dataset)  # 数据总条数\n",
    "    labels = {}     # 统计数据中各类别数目\n",
    "    for featureVec in dataset:\n",
    "        # 每行数据最后一个值为标签\n",
    "        currentLabel = featureVec[-1]\n",
    "        labels[currentLabel] = labels.get(currentLabel, 0) + 1\n",
    "    entropy = 0.0\n",
    "    for label in labels:\n",
    "        prob = labels[label] / nums\n",
    "        entropy -= prob * np.log2(prob)\n",
    "    return entropy"
   ],
   "metadata": {
    "collapsed": false,
    "pycharm": {
     "name": "#%%\n"
    }
   }
  },
  {
   "cell_type": "code",
   "execution_count": 52,
   "outputs": [
    {
     "data": {
      "text/plain": "0.9402859586706311"
     },
     "execution_count": 52,
     "metadata": {},
     "output_type": "execute_result"
    }
   ],
   "source": [
    "calEntropy(dataset)"
   ],
   "metadata": {
    "collapsed": false,
    "pycharm": {
     "name": "#%%\n"
    }
   }
  },
  {
   "cell_type": "code",
   "execution_count": 7,
   "outputs": [],
   "source": [
    "def splitDataset(dataset, col, value):\n",
    "    split_result = []\n",
    "    for featureVec in dataset:\n",
    "        if featureVec[col] == value:\n",
    "            subDataset1 = featureVec[:col] + featureVec[col + 1:]\n",
    "            split_result.append(subDataset1)\n",
    "    return split_result"
   ],
   "metadata": {
    "collapsed": false,
    "pycharm": {
     "name": "#%%\n"
    }
   }
  },
  {
   "cell_type": "code",
   "execution_count": 54,
   "outputs": [
    {
     "data": {
      "text/plain": "[['sunny', 'hot', 'no', 'no'],\n ['sunny', 'hot', 'yes', 'no'],\n ['overcast', 'hot', 'no', 'yes'],\n ['rainy', 'mild', 'no', 'yes'],\n ['sunny', 'mild', 'no', 'no'],\n ['overcast', 'mild', 'yes', 'yes'],\n ['rainy', 'mild', 'yes', 'no']]"
     },
     "execution_count": 54,
     "metadata": {},
     "output_type": "execute_result"
    }
   ],
   "source": [
    "splitDataset(dataset, 0, 'high')"
   ],
   "metadata": {
    "collapsed": false,
    "pycharm": {
     "name": "#%%\n"
    }
   }
  },
  {
   "cell_type": "code",
   "execution_count": 8,
   "outputs": [],
   "source": [
    "def chooseBestFeature(dataset):\n",
    "    numFeatures = len(dataset[0]) - 1   # 特征数量\n",
    "    baseEntropy = calEntropy(dataset)   # 信息熵\n",
    "    bestEntropyGain, bestFeature = 0, -1\n",
    "    for i in range(numFeatures):\n",
    "        # 当前特征列下的所有值\n",
    "        featureValues = [featureVec[i] for featureVec in dataset]\n",
    "        # print(featureValues)\n",
    "        # 特征值类别\n",
    "        featureValueUniques = list(set(featureValues))\n",
    "        newEntropy = 0.0\n",
    "        splitInfo = 0.0\n",
    "        for featureValue in featureValueUniques:\n",
    "            split_result = splitDataset(dataset, i, featureValue)\n",
    "            # 求出该值在第i列中出现概率\n",
    "            prob = len(split_result) / len(dataset)\n",
    "            # 求第i列特征各值对应的熵之和\n",
    "            newEntropy += prob * calEntropy(split_result)\n",
    "            splitInfo = -prob * np.log2(prob)\n",
    "        # 求出第i列特征的信息增益率\n",
    "        infoGain = (baseEntropy - newEntropy) / splitInfo\n",
    "        # 贪心算法获得最大信息增益率对应的特征\n",
    "        if infoGain > bestEntropyGain:\n",
    "            bestEntropyGain, bestFeature = infoGain, i\n",
    "    return bestFeature"
   ],
   "metadata": {
    "collapsed": false,
    "pycharm": {
     "name": "#%%\n"
    }
   }
  },
  {
   "cell_type": "code",
   "execution_count": 9,
   "outputs": [],
   "source": [
    "def createDecisionTree(dataset, features):\n",
    "    # 1.如果数据集中所有数据属于同一类\n",
    "    labels = [featureVec[-1] for featureVec in dataset]\n",
    "    if len(set(labels)) == 1:\n",
    "        return labels[0]\n",
    "    # 2.如果数据集的特征列为空，即只有标签列，则根据投票法返回数目最多的类别\n",
    "    if len(dataset[0]) == 1:\n",
    "        return majority(labels)\n",
    "    # 3.否则，就计算每个特征的信息增益，选出最优特征\n",
    "    bestFeature = chooseBestFeature(dataset)    # 这是下标\n",
    "    bestFeatureValue = features[bestFeature]    # 这是最优特征\n",
    "    # 以最优特征为根节点创建树\n",
    "    myTree = {bestFeatureValue: {}}\n",
    "    # 删除掉最优特征\n",
    "    del features[bestFeature]\n",
    "    # 找出该特征所有训练数据的值\n",
    "    featureValues = [featureVec[bestFeature] for featureVec in dataset]\n",
    "    featureUniqueValues = list(set(featureValues))\n",
    "    #根据该属性的值求树的各个分支\n",
    "    for featureVal in featureUniqueValues:\n",
    "        subFeatures = features[:]\n",
    "        myTree[bestFeatureValue][featureVal] = createDecisionTree(splitDataset(dataset, bestFeature, featureVal), subFeatures)\n",
    "\n",
    "    return myTree"
   ],
   "metadata": {
    "collapsed": false,
    "pycharm": {
     "name": "#%%\n"
    }
   }
  },
  {
   "cell_type": "code",
   "execution_count": 10,
   "outputs": [],
   "source": [
    "def majority(labels):\n",
    "    return Counter(labels).most_common()[0][0]\n",
    "\n",
    "\n"
   ],
   "metadata": {
    "collapsed": false,
    "pycharm": {
     "name": "#%%\n"
    }
   }
  },
  {
   "cell_type": "code",
   "execution_count": 11,
   "outputs": [
    {
     "data": {
      "text/plain": "{'outlook': {'sunny': {'humility': {'normal': 'yes', 'high': 'no'}},\n  'overcast': 'yes',\n  'rainy': {'windy': {'no': 'yes', 'yes': 'no'}}}}"
     },
     "execution_count": 11,
     "metadata": {},
     "output_type": "execute_result"
    }
   ],
   "source": [
    "createDecisionTree(dataset, features)"
   ],
   "metadata": {
    "collapsed": false,
    "pycharm": {
     "name": "#%%\n"
    }
   }
  },
  {
   "cell_type": "code",
   "execution_count": 58,
   "outputs": [],
   "source": [
    "\n"
   ],
   "metadata": {
    "collapsed": false,
    "pycharm": {
     "name": "#%%\n"
    }
   }
  }
 ],
 "metadata": {
  "kernelspec": {
   "display_name": "Python 3",
   "language": "python",
   "name": "python3"
  },
  "language_info": {
   "codemirror_mode": {
    "name": "ipython",
    "version": 2
   },
   "file_extension": ".py",
   "mimetype": "text/x-python",
   "name": "python",
   "nbconvert_exporter": "python",
   "pygments_lexer": "ipython2",
   "version": "2.7.6"
  }
 },
 "nbformat": 4,
 "nbformat_minor": 0
}